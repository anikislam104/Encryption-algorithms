{
 "cells": [
  {
   "cell_type": "code",
   "execution_count": 11,
   "metadata": {},
   "outputs": [],
   "source": [
    "import secrets  "
   ]
  },
  {
   "cell_type": "code",
   "execution_count": 12,
   "metadata": {},
   "outputs": [],
   "source": [
    "p = 97  \n",
    "a = 2   \n",
    "b = 3   \n",
    "\n",
    "\n",
    "G = (3, 6)\n",
    "\n",
    "\n",
    "O = None"
   ]
  },
  {
   "cell_type": "code",
   "execution_count": 13,
   "metadata": {},
   "outputs": [],
   "source": [
    "def is_on_curve(x, y):\n",
    "    \n",
    "    return (y ** 2) % p == (x ** 3 + a * x + b) % p"
   ]
  },
  {
   "cell_type": "code",
   "execution_count": 14,
   "metadata": {},
   "outputs": [],
   "source": [
    "def inverse_mod(k, p):\n",
    "    \n",
    "    if k == 0:\n",
    "        raise ZeroDivisionError(\"Division by zero\")\n",
    "    return pow(k, p - 2, p)  "
   ]
  },
  {
   "cell_type": "code",
   "execution_count": 15,
   "metadata": {},
   "outputs": [],
   "source": [
    "def point_add(P, Q):\n",
    "    \n",
    "    if P == O:\n",
    "        return Q\n",
    "    if Q == O:\n",
    "        return P\n",
    "\n",
    "    x1, y1 = P\n",
    "    x2, y2 = Q\n",
    "\n",
    "    if x1 == x2 and y1 != y2:\n",
    "        return O  \n",
    "\n",
    "    if P == Q:  \n",
    "        m = (3 * x1 * x1 + a) * inverse_mod(2 * y1, p)\n",
    "    else:  \n",
    "        m = (y2 - y1) * inverse_mod(x2 - x1, p)\n",
    "\n",
    "    m %= p\n",
    "    x3 = (m * m - x1 - x2) % p\n",
    "    y3 = (m * (x1 - x3) - y1) % p\n",
    "\n",
    "    return (x3, y3)"
   ]
  },
  {
   "cell_type": "code",
   "execution_count": 16,
   "metadata": {},
   "outputs": [],
   "source": [
    "def scalar_mult(k, P):\n",
    "    \n",
    "    result = O\n",
    "    while k > 0:\n",
    "        if k % 2 == 1:\n",
    "            result = point_add(result, P)\n",
    "        P = point_add(P, P)\n",
    "        k = k // 2\n",
    "    return result"
   ]
  },
  {
   "cell_type": "code",
   "execution_count": 17,
   "metadata": {},
   "outputs": [],
   "source": [
    "def generate_keypair():\n",
    "    \n",
    "    private_key = secrets.randbelow(p - 1) + 1\n",
    "    public_key = scalar_mult(private_key, G)\n",
    "    return private_key, public_key"
   ]
  },
  {
   "cell_type": "code",
   "execution_count": 18,
   "metadata": {},
   "outputs": [],
   "source": [
    "def encrypt(Pm, public_key):\n",
    "    \n",
    "    k = secrets.randbelow(p - 1) + 1\n",
    "    C1 = scalar_mult(k, G)\n",
    "    S = scalar_mult(k, public_key)\n",
    "    C2 = point_add(Pm, S)\n",
    "    return (C1, C2)"
   ]
  },
  {
   "cell_type": "code",
   "execution_count": 19,
   "metadata": {},
   "outputs": [],
   "source": [
    "def decrypt(C1, C2, private_key):\n",
    "    \n",
    "    S = scalar_mult(private_key, C1)\n",
    "    S_inv = (S[0], (-S[1]) % p)\n",
    "    Pm = point_add(C2, S_inv)\n",
    "    return Pm"
   ]
  },
  {
   "cell_type": "code",
   "execution_count": 20,
   "metadata": {},
   "outputs": [
    {
     "name": "stdout",
     "output_type": "stream",
     "text": [
      "Private Key: 26\n",
      "Public Key: (3, 6)\n",
      "Encrypted: C1 = (3, 6), C2 = (80, 10)\n",
      "Decrypted: (3, 6)\n"
     ]
    }
   ],
   "source": [
    "Pm = (3, 6)  \n",
    "\n",
    "private_key, public_key = generate_keypair()\n",
    "print(f\"Private Key: {private_key}\")\n",
    "print(f\"Public Key: {public_key}\")\n",
    "\n",
    "C1, C2 = encrypt(Pm, public_key)\n",
    "print(f\"Encrypted: C1 = {C1}, C2 = {C2}\")\n",
    "\n",
    "decrypted = decrypt(C1, C2, private_key)\n",
    "print(f\"Decrypted: {decrypted}\")"
   ]
  }
 ],
 "metadata": {
  "kernelspec": {
   "display_name": "base",
   "language": "python",
   "name": "python3"
  },
  "language_info": {
   "codemirror_mode": {
    "name": "ipython",
    "version": 3
   },
   "file_extension": ".py",
   "mimetype": "text/x-python",
   "name": "python",
   "nbconvert_exporter": "python",
   "pygments_lexer": "ipython3",
   "version": "3.12.4"
  }
 },
 "nbformat": 4,
 "nbformat_minor": 4
}
