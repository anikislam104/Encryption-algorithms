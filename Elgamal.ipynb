{
 "cells": [
  {
   "cell_type": "code",
   "execution_count": 58,
   "id": "ee278ca6",
   "metadata": {},
   "outputs": [],
   "source": [
    "import random\n",
    "from math import gcd\n",
    "from sympy import isprime"
   ]
  },
  {
   "cell_type": "code",
   "execution_count": 59,
   "id": "6a820787",
   "metadata": {},
   "outputs": [
    {
     "data": {
      "text/plain": [
       "17"
      ]
     },
     "execution_count": 59,
     "metadata": {},
     "output_type": "execute_result"
    }
   ],
   "source": [
    "while True:\n",
    "    p = random.getrandbits(10)\n",
    "    if isprime(p):\n",
    "        break\n",
    "\n",
    "p"
   ]
  },
  {
   "cell_type": "code",
   "execution_count": 60,
   "id": "1294d632",
   "metadata": {},
   "outputs": [
    {
     "data": {
      "text/plain": [
       "[3, 3, 7]"
      ]
     },
     "execution_count": 60,
     "metadata": {},
     "output_type": "execute_result"
    }
   ],
   "source": [
    "def prime_factors(n):\n",
    "    i = 2\n",
    "    factors = []\n",
    "\n",
    "    while i*i<=n:\n",
    "        if n%i == 0:\n",
    "            factors.append(i)\n",
    "            n //= i\n",
    "        else:\n",
    "            i+=1\n",
    "    \n",
    "    if n>1:\n",
    "        factors.append(n)\n",
    "\n",
    "    return factors\n",
    "\n",
    "prime_factors(63)        "
   ]
  },
  {
   "cell_type": "code",
   "execution_count": 61,
   "id": "3fd8618f",
   "metadata": {},
   "outputs": [],
   "source": [
    "def is_generator(g, p):\n",
    "    if gcd(g, p)!=1:\n",
    "        return False\n",
    "    order = p-1\n",
    "    factors = prime_factors(order)\n",
    "    for factor in set(factors):\n",
    "        if pow(g, order // factor, p) == 1:\n",
    "            return False\n",
    "    return True"
   ]
  },
  {
   "cell_type": "code",
   "execution_count": 62,
   "id": "81cb03ce",
   "metadata": {},
   "outputs": [
    {
     "data": {
      "text/plain": [
       "10"
      ]
     },
     "execution_count": 62,
     "metadata": {},
     "output_type": "execute_result"
    }
   ],
   "source": [
    "while True:\n",
    "    g = random.randint(2, p-1)\n",
    "    if is_generator(g, p):\n",
    "        break\n",
    "\n",
    "g"
   ]
  },
  {
   "cell_type": "code",
   "execution_count": 63,
   "id": "f6f3115e",
   "metadata": {},
   "outputs": [
    {
     "data": {
      "text/plain": [
       "12"
      ]
     },
     "execution_count": 63,
     "metadata": {},
     "output_type": "execute_result"
    }
   ],
   "source": [
    "x = random.randint(1, p-2)\n",
    "x"
   ]
  },
  {
   "cell_type": "code",
   "execution_count": 64,
   "id": "3f316389",
   "metadata": {},
   "outputs": [
    {
     "data": {
      "text/plain": [
       "13"
      ]
     },
     "execution_count": 64,
     "metadata": {},
     "output_type": "execute_result"
    }
   ],
   "source": [
    "h = pow(g, x, p)\n",
    "h"
   ]
  },
  {
   "cell_type": "code",
   "execution_count": 65,
   "id": "13d05370",
   "metadata": {},
   "outputs": [],
   "source": [
    "def encryption(p,g, h, plaintext):\n",
    "    if plaintext >= p:\n",
    "        raise ValueError(\"Plaintext must be less than p\")\n",
    "    k = random.randint(1, p-2)\n",
    "    c1= pow(g,k,p)\n",
    "    s= pow(h,k,p)\n",
    "    c2=(plaintext*s)%p\n",
    "    return (c1, c2)"
   ]
  },
  {
   "cell_type": "code",
   "execution_count": 66,
   "id": "3ad25604",
   "metadata": {},
   "outputs": [],
   "source": [
    "def decryption(p,x,ciphertext):\n",
    "    c1,c2 = ciphertext\n",
    "    s = pow(c1,x,p)\n",
    "    s_inv = pow(s,-1,p)\n",
    "    plaintext = (c2*s_inv)%p\n",
    "    return plaintext"
   ]
  },
  {
   "cell_type": "code",
   "execution_count": null,
   "id": "b79cf3b7",
   "metadata": {},
   "outputs": [
    {
     "name": "stdout",
     "output_type": "stream",
     "text": [
      "\n",
      "Plaintext: 13\n",
      "Encrypted ciphertext (c1, c2): (7, 16)\n",
      "Decrypted message: 13\n",
      "Success! The decrypted message matches the original.\n"
     ]
    }
   ],
   "source": [
    "plaintext = 13  # Must be less than p\n",
    "print(f\"\\nPlaintext: {plaintext}\")\n",
    "\n",
    "ciphertext = encryption(p,g,h, plaintext)\n",
    "print(f\"Encrypted ciphertext (c1, c2): {ciphertext}\")\n",
    "\n",
    "decrypted = decryption(p,x, ciphertext)\n",
    "print(f\"Decrypted message: {decrypted}\")\n",
    "\n",
    "if plaintext == decrypted:\n",
    "    print(\"Success! The decrypted message matches the original.\")\n",
    "else:\n",
    "    print(\"Error in decryption!\")"
   ]
  }
 ],
 "metadata": {
  "kernelspec": {
   "display_name": "base",
   "language": "python",
   "name": "python3"
  },
  "language_info": {
   "codemirror_mode": {
    "name": "ipython",
    "version": 3
   },
   "file_extension": ".py",
   "mimetype": "text/x-python",
   "name": "python",
   "nbconvert_exporter": "python",
   "pygments_lexer": "ipython3",
   "version": "3.12.4"
  }
 },
 "nbformat": 4,
 "nbformat_minor": 5
}
