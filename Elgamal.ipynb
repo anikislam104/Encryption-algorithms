{
 "cells": [
  {
   "cell_type": "code",
   "execution_count": 63,
   "id": "ee278ca6",
   "metadata": {},
   "outputs": [],
   "source": [
    "import random\n",
    "from math import gcd\n",
    "from sympy import nextprime"
   ]
  },
  {
   "cell_type": "code",
   "execution_count": 64,
   "id": "db398174",
   "metadata": {},
   "outputs": [],
   "source": [
    "def get_prime_number(plaintext):\n",
    "    return nextprime(plaintext)"
   ]
  },
  {
   "cell_type": "code",
   "execution_count": 65,
   "id": "1294d632",
   "metadata": {},
   "outputs": [],
   "source": [
    "def get_prime_factors(n):\n",
    "    i = 2\n",
    "    factors = []\n",
    "\n",
    "    while i*i<=n:\n",
    "        if n%i == 0:\n",
    "            factors.append(i)\n",
    "            n //= i\n",
    "        else:\n",
    "            i+=1\n",
    "    \n",
    "    if n>1:\n",
    "        factors.append(n)\n",
    "\n",
    "    return factors     "
   ]
  },
  {
   "cell_type": "code",
   "execution_count": 66,
   "id": "3fd8618f",
   "metadata": {},
   "outputs": [],
   "source": [
    "def is_generator(g, p):\n",
    "    if gcd(g, p)!=1:\n",
    "        return False\n",
    "    order = p-1\n",
    "    factors = get_prime_factors(order)\n",
    "    for factor in set(factors):\n",
    "        if pow(g, order // factor, p) == 1:\n",
    "            return False\n",
    "    return True"
   ]
  },
  {
   "cell_type": "code",
   "execution_count": 67,
   "id": "4cf5049b",
   "metadata": {},
   "outputs": [],
   "source": [
    "def get_generator(p):\n",
    "    while True:\n",
    "        g = random.randint(2, p-1)\n",
    "        if is_generator(g, p):\n",
    "            break\n",
    "    return g"
   ]
  },
  {
   "cell_type": "code",
   "execution_count": 68,
   "id": "efe819b1",
   "metadata": {},
   "outputs": [],
   "source": [
    "def get_private_key(p):\n",
    "    return random.randint(1, p-2)"
   ]
  },
  {
   "cell_type": "code",
   "execution_count": 69,
   "id": "eacca0d8",
   "metadata": {},
   "outputs": [],
   "source": [
    "def compute_h(g, x, p):\n",
    "    return pow(g, x, p)"
   ]
  },
  {
   "cell_type": "code",
   "execution_count": 70,
   "id": "d8dab38c",
   "metadata": {},
   "outputs": [],
   "source": [
    "def get_keys(plaintext):\n",
    "    p = get_prime_number(plaintext)\n",
    "    g = get_generator(p)\n",
    "    x = get_private_key(p)\n",
    "    h = compute_h(g, x, p)\n",
    "    return (p, g, h), x"
   ]
  },
  {
   "cell_type": "code",
   "execution_count": 71,
   "id": "13d05370",
   "metadata": {},
   "outputs": [],
   "source": [
    "def encryption(plaintext, public_key):\n",
    "    p, g, h = public_key\n",
    "    k = random.randint(1, p - 2)\n",
    "    c1 = pow(g, k, p)\n",
    "    s = pow(h, k, p)\n",
    "    c2 = (plaintext * s) % p\n",
    "    return (c1, c2)"
   ]
  },
  {
   "cell_type": "code",
   "execution_count": 72,
   "id": "3ad25604",
   "metadata": {},
   "outputs": [],
   "source": [
    "def decryption(p, private_key, ciphertext):\n",
    "    c1, c2 = ciphertext\n",
    "    s = pow(c1, private_key, p)\n",
    "    s_inv = pow(s, -1, p)\n",
    "    plaintext = (c2 * s_inv) % p\n",
    "    return plaintext"
   ]
  },
  {
   "cell_type": "code",
   "execution_count": 73,
   "id": "bdf50af3",
   "metadata": {},
   "outputs": [],
   "source": [
    "def RunElgamal(plaintext=None):\n",
    "    if plaintext is None:\n",
    "        plaintext = random.randint(1, 100)\n",
    "    public_key, private_key = get_keys(plaintext)\n",
    "    ciphertext = encryption(plaintext, public_key)\n",
    "    decrypted_plaintext = decryption(public_key[0], private_key, ciphertext)\n",
    "    print(\"Plaintext:\", plaintext)\n",
    "    print(\"Ciphertext:\", ciphertext)\n",
    "    print(\"Decrypted Plaintext:\", decrypted_plaintext)\n",
    "    if plaintext == decrypted_plaintext:\n",
    "        print(\"Success: Decrypted plaintext matches the original plaintext.\")\n",
    "    else:\n",
    "        print(\"Error: Decrypted plaintext does not match the original plaintext.\")"
   ]
  },
  {
   "cell_type": "code",
   "execution_count": 74,
   "id": "b8fd6885",
   "metadata": {},
   "outputs": [
    {
     "name": "stdout",
     "output_type": "stream",
     "text": [
      "Plaintext: 60\n",
      "Ciphertext: (39, 42)\n",
      "Decrypted Plaintext: 60\n",
      "Success: Decrypted plaintext matches the original plaintext.\n"
     ]
    }
   ],
   "source": [
    "RunElgamal()"
   ]
  },
  {
   "cell_type": "code",
   "execution_count": 75,
   "id": "9250320b",
   "metadata": {},
   "outputs": [
    {
     "name": "stdout",
     "output_type": "stream",
     "text": [
      "Plaintext: 154\n",
      "Ciphertext: (8, 3)\n",
      "Decrypted Plaintext: 154\n",
      "Success: Decrypted plaintext matches the original plaintext.\n"
     ]
    }
   ],
   "source": [
    "RunElgamal(154)"
   ]
  }
 ],
 "metadata": {
  "kernelspec": {
   "display_name": "base",
   "language": "python",
   "name": "python3"
  },
  "language_info": {
   "codemirror_mode": {
    "name": "ipython",
    "version": 3
   },
   "file_extension": ".py",
   "mimetype": "text/x-python",
   "name": "python",
   "nbconvert_exporter": "python",
   "pygments_lexer": "ipython3",
   "version": "3.12.4"
  }
 },
 "nbformat": 4,
 "nbformat_minor": 5
}
