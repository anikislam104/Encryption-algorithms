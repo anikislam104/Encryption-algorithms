{
 "cells": [
  {
   "cell_type": "code",
   "execution_count": 1,
   "id": "62911272",
   "metadata": {},
   "outputs": [],
   "source": [
    "import random"
   ]
  },
  {
   "cell_type": "code",
   "execution_count": 2,
   "id": "08a6fc8d",
   "metadata": {},
   "outputs": [],
   "source": [
    "def is_prime(num):\n",
    "    if num < 2:\n",
    "        return False\n",
    "    if num == 2:\n",
    "        return True\n",
    "    if num % 2 == 0:\n",
    "        return False\n",
    "    bPrime =  True\n",
    "    for i in range(3, num-1, 2):\n",
    "        if num % i == 0:\n",
    "            bPrime = False\n",
    "            break\n",
    "    return bPrime"
   ]
  },
  {
   "cell_type": "code",
   "execution_count": 3,
   "id": "d67105b9",
   "metadata": {},
   "outputs": [],
   "source": [
    "def generate_two_prime_numbers(min_range, max_range):\n",
    "    if min_range < 2:\n",
    "        print(\"Minimum range must be at least 2.\")\n",
    "        return None\n",
    "    if max_range < min_range:\n",
    "        print(\"Maximum range must be greater than minimum range.\")\n",
    "        return None\n",
    "    primes = []\n",
    "    for i in range(min_range, max_range + 1):\n",
    "        if is_prime(i):\n",
    "            primes.append(i)\n",
    "\n",
    "    if len(primes) < 2:\n",
    "        print(\"Not enough prime numbers in the given range.\")\n",
    "        return None\n",
    "    else:\n",
    "        #select a random prime number from the array\n",
    "        p = random.choice(primes)\n",
    "        q = random.choice(primes)\n",
    "        while p == q:\n",
    "            q = random.choice(primes)\n",
    "        return p, q"
   ]
  },
  {
   "cell_type": "code",
   "execution_count": 4,
   "id": "d6868843",
   "metadata": {},
   "outputs": [
    {
     "name": "stdout",
     "output_type": "stream",
     "text": [
      "Two distinct prime numbers generated: 193 and 113\n"
     ]
    }
   ],
   "source": [
    "p,q = generate_two_prime_numbers(10, 200)\n",
    "if p and q:\n",
    "    print(f\"Two distinct prime numbers generated: {p} and {q}\")"
   ]
  },
  {
   "cell_type": "code",
   "execution_count": 5,
   "id": "b0a097b4",
   "metadata": {},
   "outputs": [
    {
     "name": "stdout",
     "output_type": "stream",
     "text": [
      "n = 21809\n",
      "phi(n) = 21504\n"
     ]
    }
   ],
   "source": [
    "n = p*q\n",
    "phi_n = (p-1)*(q-1)\n",
    "print(f\"n = {n}\")\n",
    "print(f\"phi(n) = {phi_n}\")"
   ]
  },
  {
   "cell_type": "code",
   "execution_count": 6,
   "id": "f55bf45f",
   "metadata": {},
   "outputs": [
    {
     "data": {
      "text/plain": [
       "5"
      ]
     },
     "execution_count": 6,
     "metadata": {},
     "output_type": "execute_result"
    }
   ],
   "source": [
    "def gcd(a, b):\n",
    "    while b:\n",
    "        a, b = b, a % b\n",
    "    return a\n",
    "\n",
    "gcd(30,65)"
   ]
  },
  {
   "cell_type": "code",
   "execution_count": 7,
   "id": "48b22c51",
   "metadata": {},
   "outputs": [
    {
     "name": "stdout",
     "output_type": "stream",
     "text": [
      "e = 5\n"
     ]
    }
   ],
   "source": [
    "e = 1\n",
    "for i in range(2, phi_n):\n",
    "    if gcd(i, phi_n) == 1:\n",
    "        e = i\n",
    "        break\n",
    "print(f\"e = {e}\")"
   ]
  },
  {
   "cell_type": "code",
   "execution_count": 8,
   "id": "304d8c77",
   "metadata": {},
   "outputs": [
    {
     "name": "stdout",
     "output_type": "stream",
     "text": [
      "d = 4301\n"
     ]
    }
   ],
   "source": [
    "d = 1\n",
    "for i in range(1, phi_n):\n",
    "    if (e * i) % phi_n == 1:\n",
    "        d = i\n",
    "        break\n",
    "print(f\"d = {d}\")"
   ]
  },
  {
   "cell_type": "code",
   "execution_count": 9,
   "id": "881cd58b",
   "metadata": {},
   "outputs": [
    {
     "name": "stdout",
     "output_type": "stream",
     "text": [
      "Public key: (n=21809, e=5)\n",
      "Private key: (n=21809, d=4301)\n"
     ]
    }
   ],
   "source": [
    "print(f\"Public key: (n={n}, e={e})\")\n",
    "print(f\"Private key: (n={n}, d={d})\")"
   ]
  },
  {
   "cell_type": "code",
   "execution_count": 10,
   "id": "5ce474aa",
   "metadata": {},
   "outputs": [
    {
     "name": "stdout",
     "output_type": "stream",
     "text": [
      "Plaintext: 1234\n",
      "Ciphertext: 17791\n"
     ]
    }
   ],
   "source": [
    "plaintext = 1234\n",
    "print(f\"Plaintext: {plaintext}\")\n",
    "ciphertext = (plaintext ** e) % n\n",
    "print(f\"Ciphertext: {ciphertext}\")"
   ]
  },
  {
   "cell_type": "code",
   "execution_count": 11,
   "id": "d6fb62f1",
   "metadata": {},
   "outputs": [
    {
     "name": "stdout",
     "output_type": "stream",
     "text": [
      "Decrypted plaintext: 1234\n"
     ]
    }
   ],
   "source": [
    "plaintext = (ciphertext ** d) % n\n",
    "print(f\"Decrypted plaintext: {plaintext}\")"
   ]
  }
 ],
 "metadata": {
  "kernelspec": {
   "display_name": "base",
   "language": "python",
   "name": "python3"
  },
  "language_info": {
   "codemirror_mode": {
    "name": "ipython",
    "version": 3
   },
   "file_extension": ".py",
   "mimetype": "text/x-python",
   "name": "python",
   "nbconvert_exporter": "python",
   "pygments_lexer": "ipython3",
   "version": "3.12.4"
  }
 },
 "nbformat": 4,
 "nbformat_minor": 5
}
