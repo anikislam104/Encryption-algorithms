{
 "cells": [
  {
   "cell_type": "code",
   "execution_count": 64,
   "id": "62911272",
   "metadata": {},
   "outputs": [],
   "source": [
    "import random"
   ]
  },
  {
   "cell_type": "code",
   "execution_count": 65,
   "id": "08a6fc8d",
   "metadata": {},
   "outputs": [],
   "source": [
    "def is_prime(num):\n",
    "    if num < 2:\n",
    "        return False\n",
    "    if num == 2:\n",
    "        return True\n",
    "    if num % 2 == 0:\n",
    "        return False\n",
    "    bPrime =  True\n",
    "    for i in range(3, num-1, 2):\n",
    "        if num % i == 0:\n",
    "            bPrime = False\n",
    "            break\n",
    "    return bPrime\n",
    "\n",
    "# Time complexity: O(n)\n",
    "# Space complexity: O(1)"
   ]
  },
  {
   "cell_type": "code",
   "execution_count": 66,
   "id": "d67105b9",
   "metadata": {},
   "outputs": [],
   "source": [
    "def generate_two_prime_numbers(min_range, max_range):\n",
    "    if min_range < 2:\n",
    "        print(\"Minimum range must be at least 2.\")\n",
    "        return None\n",
    "    if max_range < min_range:\n",
    "        print(\"Maximum range must be greater than minimum range.\")\n",
    "        return None\n",
    "    primes = []\n",
    "    for i in range(min_range, max_range + 1):  #O(n)\n",
    "        if is_prime(i):    #O(n)\n",
    "            primes.append(i)\n",
    "\n",
    "    if len(primes) < 2:\n",
    "        print(\"Not enough prime numbers in the given range.\")\n",
    "        return None\n",
    "    else:\n",
    "        p = random.choice(primes)\n",
    "        q = random.choice(primes)\n",
    "        while p == q:\n",
    "            q = random.choice(primes)\n",
    "        return p, q\n",
    "\n",
    "# Time complexity: O(n^2)\n",
    "# Space complexity: O(n)"
   ]
  },
  {
   "cell_type": "code",
   "execution_count": 67,
   "id": "f146829e",
   "metadata": {},
   "outputs": [],
   "source": [
    "def generate_n_and_phi_n(p, q):\n",
    "    n = p * q\n",
    "    phi_n = (p - 1) * (q - 1)\n",
    "    return n, phi_n"
   ]
  },
  {
   "cell_type": "code",
   "execution_count": 68,
   "id": "f55bf45f",
   "metadata": {},
   "outputs": [],
   "source": [
    "def gcd(a, b):\n",
    "    while b:\n",
    "        a, b = b, a % b\n",
    "    return a\n",
    "\n",
    "# Time complexity: O(log(min(a, b)))\n",
    "# Space complexity: O(1)"
   ]
  },
  {
   "cell_type": "code",
   "execution_count": 69,
   "id": "a313d124",
   "metadata": {},
   "outputs": [],
   "source": [
    "def calculate_e(phi_n):\n",
    "    e = 1\n",
    "    for i in range(2, phi_n):\n",
    "        if gcd(i, phi_n) == 1:\n",
    "            e = i\n",
    "            break\n",
    "    return e"
   ]
  },
  {
   "cell_type": "code",
   "execution_count": 70,
   "id": "9c1d3afc",
   "metadata": {},
   "outputs": [],
   "source": [
    "def calculate_d(e, phi_n):\n",
    "    d = 1\n",
    "    for i in range(1, phi_n):\n",
    "        if (e * i) % phi_n == 1:\n",
    "            d = i\n",
    "            break\n",
    "    return d"
   ]
  },
  {
   "cell_type": "code",
   "execution_count": 71,
   "id": "863bc9ba",
   "metadata": {},
   "outputs": [],
   "source": [
    "def get_keys(p, q):\n",
    "    n, phi_n = generate_n_and_phi_n(p, q)\n",
    "    e = calculate_e(phi_n)\n",
    "    d = calculate_d(e, phi_n)\n",
    "    public_key = (n, e)\n",
    "    private_key = (n, d)\n",
    "    return public_key, private_key"
   ]
  },
  {
   "cell_type": "code",
   "execution_count": 72,
   "id": "ddea1f97",
   "metadata": {},
   "outputs": [],
   "source": [
    "def get_ciphertext(plaintext, public_key):\n",
    "    n, e = public_key\n",
    "    ciphertext = (plaintext ** e) % n\n",
    "    return ciphertext"
   ]
  },
  {
   "cell_type": "code",
   "execution_count": 73,
   "id": "38ac5e9e",
   "metadata": {},
   "outputs": [],
   "source": [
    "def get_plaintext(ciphertext, private_key):\n",
    "    n, d = private_key\n",
    "    plaintext = (ciphertext ** d) % n\n",
    "    return plaintext"
   ]
  },
  {
   "cell_type": "code",
   "execution_count": 74,
   "id": "da8d3a3c",
   "metadata": {},
   "outputs": [],
   "source": [
    "def RunRSA(min_value, max_value, plaintext):\n",
    "    p, q = generate_two_prime_numbers(min_value, max_value)\n",
    "    public_key, private_key = get_keys(p, q)\n",
    "    ciphertext = get_ciphertext(plaintext, public_key)\n",
    "    print(f\"Ciphertext: {ciphertext}\")\n",
    "    decrypted_plaintext = get_plaintext(ciphertext, private_key)\n",
    "    print(f\"Decrypted Plaintext: {decrypted_plaintext}\")\n",
    "    if decrypted_plaintext == plaintext:\n",
    "        print(\"Success: Decrypted plaintext matches the original plaintext.\")\n",
    "    else:\n",
    "        print(\"Error: Decrypted plaintext does not match the original plaintext.\")"
   ]
  },
  {
   "cell_type": "code",
   "execution_count": 75,
   "id": "e7f9df85",
   "metadata": {},
   "outputs": [
    {
     "name": "stdout",
     "output_type": "stream",
     "text": [
      "Ciphertext: 2501\n",
      "Decrypted Plaintext: 123\n",
      "Success: Decrypted plaintext matches the original plaintext.\n"
     ]
    }
   ],
   "source": [
    "RunRSA(10, 200, 123)"
   ]
  }
 ],
 "metadata": {
  "kernelspec": {
   "display_name": "base",
   "language": "python",
   "name": "python3"
  },
  "language_info": {
   "codemirror_mode": {
    "name": "ipython",
    "version": 3
   },
   "file_extension": ".py",
   "mimetype": "text/x-python",
   "name": "python",
   "nbconvert_exporter": "python",
   "pygments_lexer": "ipython3",
   "version": "3.12.4"
  }
 },
 "nbformat": 4,
 "nbformat_minor": 5
}
